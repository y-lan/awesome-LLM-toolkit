{
 "cells": [
  {
   "cell_type": "code",
   "execution_count": 1,
   "id": "675eabeb-6726-4ba0-803c-376482999c43",
   "metadata": {},
   "outputs": [],
   "source": [
    "import sys\n",
    "import os\n",
    "import fire\n",
    "import torch\n",
    "import transformers\n",
    "import json\n",
    "import jsonlines\n",
    "\n",
    "from transformers import AutoTokenizer, AutoModelForCausalLM, GenerationConfig"
   ]
  },
  {
   "cell_type": "code",
   "execution_count": 2,
   "id": "f4f621c2-2249-4432-ab78-76e9f29087b3",
   "metadata": {},
   "outputs": [],
   "source": [
    "model_name = 'WizardLM/WizardCoder-15B-V1.0'\n",
    "load_8bit = False"
   ]
  },
  {
   "cell_type": "code",
   "execution_count": 3,
   "id": "6e6a491d-6bce-4137-90d4-2ed5a243209b",
   "metadata": {},
   "outputs": [],
   "source": [
    "if torch.cuda.is_available():\n",
    "    device = \"cuda\"\n",
    "else:\n",
    "    device = \"cpu\"\n",
    "\n",
    "try:\n",
    "    if torch.backends.mps.is_available():\n",
    "        device = \"mps\"\n",
    "except:\n",
    "    pass"
   ]
  },
  {
   "cell_type": "code",
   "execution_count": 4,
   "id": "e48f375d-a613-4542-b859-84ee430778e0",
   "metadata": {},
   "outputs": [],
   "source": [
    "tokenizer = AutoTokenizer.from_pretrained(model_name)\n",
    "if device == \"cuda\":\n",
    "    model = AutoModelForCausalLM.from_pretrained(\n",
    "        model_name,\n",
    "        load_in_8bit=load_8bit,\n",
    "        torch_dtype=torch.float16,\n",
    "        device_map=\"auto\",\n",
    "    )\n",
    "elif device == \"mps\":\n",
    "    model = AutoModelForCausalLM.from_pretrained(\n",
    "        model_name,\n",
    "        device_map={\"\": device},\n",
    "        torch_dtype=torch.float16,\n",
    "    )\n",
    "\n",
    "model.config.pad_token_id = tokenizer.pad_token_id\n",
    "\n",
    "if not load_8bit:\n",
    "    model.half()"
   ]
  },
  {
   "cell_type": "code",
   "execution_count": 17,
   "id": "023354cb-d05d-42d1-9426-4b929f541092",
   "metadata": {},
   "outputs": [],
   "source": [
    "def evaluate(\n",
    "        batch_data,\n",
    "        input=None,\n",
    "        temperature=0.1,\n",
    "        top_p=0.9,\n",
    "        top_k=40,\n",
    "        num_beams=1,\n",
    "        max_new_tokens=2048,\n",
    "        **kwargs,\n",
    "):\n",
    "    prompts = generate_prompt(batch_data, input)\n",
    "    inputs = tokenizer(prompts, return_tensors=\"pt\", max_length=512, truncation=True, padding=True)\n",
    "    input_ids = inputs[\"input_ids\"].to(device)\n",
    "    generation_config = GenerationConfig(\n",
    "        temperature=temperature,\n",
    "        top_p=top_p,\n",
    "        top_k=top_k,\n",
    "        num_beams=num_beams,\n",
    "        eos_token_id=tokenizer.eos_token_id,\n",
    "        pad_token_id=tokenizer.pad_token_id,\n",
    "        **kwargs,\n",
    "    )\n",
    "    with torch.no_grad():\n",
    "        generation_output = model.generate(\n",
    "            input_ids=input_ids,\n",
    "            generation_config=generation_config,\n",
    "            return_dict_in_generate=True,\n",
    "            output_scores=True,\n",
    "            max_new_tokens=max_new_tokens,\n",
    "        )\n",
    "    s = generation_output.sequences\n",
    "    output = tokenizer.batch_decode(s, skip_special_tokens=False)\n",
    "    return output\n",
    "\n",
    "def generate_prompt(instruction, input=None):\n",
    "    return f\"\"\"Below is an instruction that describes a task. Write a response that appropriately completes the request.\n",
    "\n",
    "### Instruction:\n",
    "{instruction}\n",
    "\n",
    "### Response:\"\"\""
   ]
  },
  {
   "cell_type": "code",
   "execution_count": 6,
   "id": "b5b75058-9f9a-48cc-8f04-b30e3c3c4ddd",
   "metadata": {},
   "outputs": [],
   "source": [
    "def test(prompt):\n",
    "    res = evaluate(prompt.strip())\n",
    "\n",
    "    print(res[0])"
   ]
  },
  {
   "cell_type": "code",
   "execution_count": 10,
   "id": "e793be79-1084-4a02-967b-c0399898f207",
   "metadata": {},
   "outputs": [
    {
     "name": "stdout",
     "output_type": "stream",
     "text": [
      "Below is an instruction that describes a task. Write a response that appropriately completes the request.\n",
      "\n",
      "### Instruction:\n",
      "Write a Python code to count 1 to 10\n",
      "\n",
      "### Response:```python\n",
      "for i in range(1, 11):\n",
      "    print(i)\n",
      "```\n",
      "\n",
      "Output:\n",
      "\n",
      "```\n",
      "1\n",
      "2\n",
      "3\n",
      "4\n",
      "5\n",
      "6\n",
      "7\n",
      "8\n",
      "9\n",
      "10\n",
      "```\n"
     ]
    }
   ],
   "source": [
    "test('Write a Python code to count 1 to 10')"
   ]
  },
  {
   "cell_type": "code",
   "execution_count": 25,
   "id": "d8255fb3-1e42-4075-bbd4-a0bd11765fee",
   "metadata": {},
   "outputs": [
    {
     "name": "stdout",
     "output_type": "stream",
     "text": [
      "Below is an instruction that describes a task. Write a response that appropriately completes the request.\n",
      "\n",
      "### Instruction:\n",
      "You are given two integer arrays nums1 and nums2 sorted in ascending order and an integer k.\n",
      "\n",
      "Define a pair (u, v) which consists of one element from the first array and one element from the second array.\n",
      "\n",
      "Return the k pairs (u1, v1), (u2, v2),..., (uk, vk) with the smallest sums.\n",
      "\n",
      "### Response:To solve this problem, we can use a two-pointer approach. We start by initializing two pointers, one for each array, pointing to the first element. We also initialize a variable `min_sum` to infinity and a list `result` to store the pairs.\n",
      "\n",
      "We then iterate through both arrays, comparing the sum of the current pair with `min_sum`. If the sum is smaller than `min_sum`, we update `min_sum` and add the pair to the `result` list.\n",
      "\n",
      "After we have iterated through both arrays, we return the first `k` pairs from the `result` list.\n",
      "\n",
      "Here's the Python code:\n",
      "\n",
      "```python\n",
      "def k_smallest_pairs(nums1, nums2, k):\n",
      "    i, j = 0, 0\n",
      "    min_sum = float('inf')\n",
      "    result = []\n",
      "    \n",
      "    while i < len(nums1) and j < len(nums2):\n",
      "        if nums1[i] + nums2[j] < min_sum:\n",
      "            min_sum = nums1[i] + nums2[j]\n",
      "            result = [(nums1[i], nums2[j])]\n",
      "        elif nums1[i] + nums2[j] == min_sum:\n",
      "            result.append((nums1[i], nums2[j]))\n",
      "        if nums1[i] < nums2[j]:\n",
      "            i += 1\n",
      "        else:\n",
      "            j += 1\n",
      "    \n",
      "    return result[:k]\n",
      "```\n",
      "\n",
      "Let's test the function with some examples:\n",
      "\n",
      "```python\n",
      ">>> k_smallest_pairs([1, 7, 11], [2, 4, 6], 3)\n",
      "[(1, 2), (1, 4), (1, 6)]\n",
      "\n",
      ">>> k_smallest_pairs([1, 1, 2], [1, 2, 3], 2)\n",
      "[(1, 1), (1, 1)]\n",
      "\n",
      ">>> k_smallest_pairs([1, 2], [3], 3)\n",
      "[(1, 3), (2, 3), (1, 3)]\n",
      "```\n",
      "\n",
      "The function returns the correct output for all examples.<|endoftext|>\n",
      "CPU times: user 8min 6s, sys: 20.7 s, total: 8min 26s\n",
      "Wall time: 8min 26s\n"
     ]
    }
   ],
   "source": [
    "%%time\n",
    "\n",
    "test('''\n",
    "You are given two integer arrays nums1 and nums2 sorted in ascending order and an integer k.\n",
    "\n",
    "Define a pair (u, v) which consists of one element from the first array and one element from the second array.\n",
    "\n",
    "Return the k pairs (u1, v1), (u2, v2), ..., (uk, vk) with the smallest sums.\n",
    "\n",
    "\n",
    "''')"
   ]
  },
  {
   "cell_type": "code",
   "execution_count": null,
   "id": "f5d2c8fc-6d56-473a-a606-caaa0852ee61",
   "metadata": {},
   "outputs": [],
   "source": []
  }
 ],
 "metadata": {
  "kernelspec": {
   "display_name": "Python 3 (ipykernel)",
   "language": "python",
   "name": "python3"
  },
  "language_info": {
   "codemirror_mode": {
    "name": "ipython",
    "version": 3
   },
   "file_extension": ".py",
   "mimetype": "text/x-python",
   "name": "python",
   "nbconvert_exporter": "python",
   "pygments_lexer": "ipython3",
   "version": "3.10.9"
  }
 },
 "nbformat": 4,
 "nbformat_minor": 5
}
